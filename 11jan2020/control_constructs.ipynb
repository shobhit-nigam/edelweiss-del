{
 "cells": [
  {
   "cell_type": "code",
   "execution_count": 2,
   "metadata": {},
   "outputs": [],
   "source": [
    "varx = 18\n",
    "vary = 21"
   ]
  },
  {
   "cell_type": "code",
   "execution_count": 3,
   "metadata": {},
   "outputs": [
    {
     "name": "stdout",
     "output_type": "stream",
     "text": [
      "good to go\n"
     ]
    }
   ],
   "source": [
    "if varx<18:\n",
    "    print(\"underage\")\n",
    "    print(\"can not vote\")\n",
    "else:\n",
    "    print(\"good to go\")"
   ]
  },
  {
   "cell_type": "code",
   "execution_count": 4,
   "metadata": {},
   "outputs": [
    {
     "name": "stdout",
     "output_type": "stream",
     "text": [
      "underage\n",
      "can not marry\n"
     ]
    }
   ],
   "source": [
    "if varx<21:\n",
    "    print(\"underage\")\n",
    "    print(\"can not marry\")\n",
    "elif varx == 21:\n",
    "    print(\"you decide\")\n",
    "elif varx > 21:\n",
    "    print(\"happy married life\")\n",
    "else:\n",
    "    print(\"dekhle, sochle\")"
   ]
  },
  {
   "cell_type": "code",
   "execution_count": 5,
   "metadata": {},
   "outputs": [],
   "source": [
    "varx = 28"
   ]
  },
  {
   "cell_type": "code",
   "execution_count": 7,
   "metadata": {},
   "outputs": [
    {
     "name": "stdout",
     "output_type": "stream",
     "text": [
      "happy married life\n"
     ]
    }
   ],
   "source": [
    "if varx<21:\n",
    "    print(\"underage\")\n",
    "    print(\"can not marry\")\n",
    "elif varx == 21:\n",
    "    print(\"you decide\")\n",
    "elif varx > 21:\n",
    "    print(\"happy married life\")\n",
    "else:\n",
    "    print(\"dekhle, sochle\")"
   ]
  },
  {
   "cell_type": "code",
   "execution_count": 8,
   "metadata": {},
   "outputs": [
    {
     "name": "stdout",
     "output_type": "stream",
     "text": [
      "forty\n"
     ]
    }
   ],
   "source": [
    "if varx < 40:\n",
    "    print(\"forty\")\n",
    "elif varx == 28:\n",
    "    print(\"twenty eight\")\n",
    "elif varx > 28:\n",
    "    print(\"something\")"
   ]
  },
  {
   "cell_type": "code",
   "execution_count": 9,
   "metadata": {},
   "outputs": [
    {
     "name": "stdout",
     "output_type": "stream",
     "text": [
      "happy married life\n",
      "when is the event\n"
     ]
    }
   ],
   "source": [
    "if varx<21:\n",
    "    print(\"underage\")\n",
    "    print(\"can not marry\")\n",
    "elif varx == 21:\n",
    "    print(\"you decide\")\n",
    "elif varx > 21:\n",
    "    print(\"happy married life\")\n",
    "print(\"when is the event\")\n"
   ]
  },
  {
   "cell_type": "code",
   "execution_count": 10,
   "metadata": {},
   "outputs": [],
   "source": [
    "#   leap year"
   ]
  },
  {
   "cell_type": "code",
   "execution_count": 11,
   "metadata": {},
   "outputs": [],
   "source": [
    "year = 0"
   ]
  },
  {
   "cell_type": "code",
   "execution_count": 12,
   "metadata": {},
   "outputs": [
    {
     "name": "stdout",
     "output_type": "stream",
     "text": [
      "leap year\n"
     ]
    }
   ],
   "source": [
    "if (year%4 == 0):\n",
    "    print(\"leap year\")\n",
    "else:\n",
    "    print(\"not a leap year\")"
   ]
  },
  {
   "cell_type": "code",
   "execution_count": 13,
   "metadata": {},
   "outputs": [],
   "source": [
    "year = 2019"
   ]
  },
  {
   "cell_type": "code",
   "execution_count": 14,
   "metadata": {},
   "outputs": [
    {
     "name": "stdout",
     "output_type": "stream",
     "text": [
      "not a leap year\n"
     ]
    }
   ],
   "source": [
    "if (year%4 == 0):\n",
    "    print(\"leap year\")\n",
    "else:\n",
    "    print(\"not a leap year\")"
   ]
  },
  {
   "cell_type": "code",
   "execution_count": 15,
   "metadata": {},
   "outputs": [],
   "source": [
    "year = 2000"
   ]
  },
  {
   "cell_type": "code",
   "execution_count": 16,
   "metadata": {},
   "outputs": [
    {
     "name": "stdout",
     "output_type": "stream",
     "text": [
      "leap year\n"
     ]
    }
   ],
   "source": [
    "if (year%4 == 0):\n",
    "    print(\"leap year\")\n",
    "else:\n",
    "    print(\"not a leap year\")"
   ]
  },
  {
   "cell_type": "code",
   "execution_count": 17,
   "metadata": {},
   "outputs": [],
   "source": [
    "year = 2100"
   ]
  },
  {
   "cell_type": "code",
   "execution_count": 19,
   "metadata": {},
   "outputs": [
    {
     "name": "stdout",
     "output_type": "stream",
     "text": [
      "leap year\n"
     ]
    }
   ],
   "source": [
    "if (year%4 == 0):\n",
    "    if (year%100):\n",
    "        print('not a leap year')\n",
    "    else:\n",
    "        print(\"leap year\")\n",
    "else:\n",
    "    print(\"not a leap year\")"
   ]
  },
  {
   "cell_type": "code",
   "execution_count": 20,
   "metadata": {},
   "outputs": [],
   "source": [
    "year = 2100"
   ]
  },
  {
   "cell_type": "code",
   "execution_count": 23,
   "metadata": {},
   "outputs": [
    {
     "name": "stdout",
     "output_type": "stream",
     "text": [
      "not a leap year\n"
     ]
    }
   ],
   "source": [
    "if (year%4 == 0):\n",
    "    if (year%100 == 0):\n",
    "        if (year %400 == 0):\n",
    "            print('leap year')\n",
    "        else:\n",
    "            print(\"not a leap year\")\n",
    "    else:\n",
    "        print(\"leap year\")\n",
    "else:\n",
    "    print(\"not a leap year\")"
   ]
  },
  {
   "cell_type": "code",
   "execution_count": 24,
   "metadata": {},
   "outputs": [],
   "source": [
    "year = 2000"
   ]
  },
  {
   "cell_type": "code",
   "execution_count": 25,
   "metadata": {},
   "outputs": [
    {
     "name": "stdout",
     "output_type": "stream",
     "text": [
      "leap year\n"
     ]
    }
   ],
   "source": [
    "if (year%4 == 0):\n",
    "    if (year%100 == 0):\n",
    "        if (year %400 == 0):\n",
    "            print('leap year')\n",
    "        else:\n",
    "            print(\"not a leap year\")\n",
    "    else:\n",
    "        print(\"leap year\")\n",
    "else:\n",
    "    print(\"not a leap year\")"
   ]
  },
  {
   "cell_type": "code",
   "execution_count": 26,
   "metadata": {},
   "outputs": [
    {
     "name": "stdout",
     "output_type": "stream",
     "text": [
      "hi\n",
      "hi\n",
      "hi\n",
      "last line\n"
     ]
    }
   ],
   "source": [
    "while (year < 2003):\n",
    "    print(\"hi\")\n",
    "    year = year + 1\n",
    "print(\"last line\")"
   ]
  },
  {
   "cell_type": "code",
   "execution_count": 32,
   "metadata": {},
   "outputs": [],
   "source": [
    "year = 2001"
   ]
  },
  {
   "cell_type": "code",
   "execution_count": 33,
   "metadata": {},
   "outputs": [
    {
     "name": "stdout",
     "output_type": "stream",
     "text": [
      "2004\n",
      "2008\n",
      "2012\n",
      "2016\n",
      "last line\n"
     ]
    }
   ],
   "source": [
    "while (year < 2020):\n",
    "    if year%4==0:\n",
    "        print(year)\n",
    "    else:\n",
    "        pass\n",
    "    year = year + 1\n",
    "print(\"last line\")"
   ]
  },
  {
   "cell_type": "code",
   "execution_count": 34,
   "metadata": {},
   "outputs": [],
   "source": [
    "varx = 'spanlabs'"
   ]
  },
  {
   "cell_type": "code",
   "execution_count": 36,
   "metadata": {},
   "outputs": [],
   "source": [
    "pass"
   ]
  },
  {
   "cell_type": "code",
   "execution_count": 37,
   "metadata": {},
   "outputs": [
    {
     "name": "stdout",
     "output_type": "stream",
     "text": [
      "s\n",
      "p\n",
      "a\n",
      "n\n",
      "l\n",
      "a\n",
      "b\n",
      "s\n"
     ]
    }
   ],
   "source": [
    "for val in varx:\n",
    "    print(val)"
   ]
  },
  {
   "cell_type": "code",
   "execution_count": 38,
   "metadata": {},
   "outputs": [],
   "source": [
    "liste = ['tanaji', 'dabang3', 'masaan', 'optimus', 'megatron', 'panipat']"
   ]
  },
  {
   "cell_type": "code",
   "execution_count": 39,
   "metadata": {},
   "outputs": [
    {
     "name": "stdout",
     "output_type": "stream",
     "text": [
      "tanaji\n",
      "dabang3\n",
      "masaan\n",
      "optimus\n",
      "megatron\n",
      "panipat\n"
     ]
    }
   ],
   "source": [
    "for movie in liste:\n",
    "    print(movie)"
   ]
  },
  {
   "cell_type": "code",
   "execution_count": 40,
   "metadata": {},
   "outputs": [
    {
     "name": "stdout",
     "output_type": "stream",
     "text": [
      "tanaji\n",
      "dabang3\n",
      "masaan\n",
      "optimus\n"
     ]
    }
   ],
   "source": [
    "for movie in liste[0:4]:\n",
    "    print(movie)"
   ]
  },
  {
   "cell_type": "code",
   "execution_count": 42,
   "metadata": {},
   "outputs": [
    {
     "name": "stdout",
     "output_type": "stream",
     "text": [
      "t\n",
      "a\n",
      "n\n",
      "a\n",
      "j\n",
      "i\n"
     ]
    }
   ],
   "source": [
    "for movie in liste[0]:\n",
    "    #  for movie in 'tanaji'\n",
    "    print(movie)"
   ]
  },
  {
   "cell_type": "code",
   "execution_count": 43,
   "metadata": {},
   "outputs": [],
   "source": [
    "liste = ['tanaji', 'dabang3', 'masaan', 'optimus', 'megatron', 'panipat']\n"
   ]
  },
  {
   "cell_type": "code",
   "execution_count": 45,
   "metadata": {},
   "outputs": [
    {
     "name": "stdout",
     "output_type": "stream",
     "text": [
      "t 6\n",
      "d 7\n",
      "m 6\n",
      "o 7\n",
      "m 8\n",
      "p 7\n"
     ]
    }
   ],
   "source": [
    "for movie in liste:\n",
    "    print(movie[0], len(movie))"
   ]
  },
  {
   "cell_type": "code",
   "execution_count": 46,
   "metadata": {},
   "outputs": [
    {
     "name": "stdout",
     "output_type": "stream",
     "text": [
      "0\n",
      "1\n",
      "2\n",
      "3\n"
     ]
    }
   ],
   "source": [
    "for i in range(4):\n",
    "    print(i)"
   ]
  },
  {
   "cell_type": "code",
   "execution_count": 47,
   "metadata": {},
   "outputs": [
    {
     "name": "stdout",
     "output_type": "stream",
     "text": [
      "tanaji\n",
      "dabang3\n",
      "masaan\n",
      "optimus\n"
     ]
    }
   ],
   "source": [
    "for i in range(4):\n",
    "    print(liste[i])"
   ]
  },
  {
   "cell_type": "code",
   "execution_count": 48,
   "metadata": {},
   "outputs": [
    {
     "name": "stdout",
     "output_type": "stream",
     "text": [
      "3\n"
     ]
    }
   ],
   "source": [
    "print(i)"
   ]
  },
  {
   "cell_type": "code",
   "execution_count": 49,
   "metadata": {},
   "outputs": [
    {
     "name": "stdout",
     "output_type": "stream",
     "text": [
      "2\n",
      "3\n",
      "4\n",
      "5\n",
      "6\n",
      "7\n"
     ]
    }
   ],
   "source": [
    "for i in range(2, 8):\n",
    "    print(i)"
   ]
  },
  {
   "cell_type": "code",
   "execution_count": 50,
   "metadata": {},
   "outputs": [
    {
     "name": "stdout",
     "output_type": "stream",
     "text": [
      "2\n",
      "5\n",
      "8\n"
     ]
    }
   ],
   "source": [
    "for i in range(2, 11, 3):\n",
    "    print(i)"
   ]
  },
  {
   "cell_type": "code",
   "execution_count": 51,
   "metadata": {},
   "outputs": [
    {
     "data": {
      "text/plain": [
       "['tanaji', 'dabang3', 'masaan', 'optimus', 'megatron', 'panipat']"
      ]
     },
     "execution_count": 51,
     "metadata": {},
     "output_type": "execute_result"
    }
   ],
   "source": [
    "liste"
   ]
  },
  {
   "cell_type": "code",
   "execution_count": 54,
   "metadata": {},
   "outputs": [],
   "source": [
    "find = 'dabang3'"
   ]
  },
  {
   "cell_type": "code",
   "execution_count": 55,
   "metadata": {},
   "outputs": [
    {
     "name": "stdout",
     "output_type": "stream",
     "text": [
      "found dabang3\n"
     ]
    }
   ],
   "source": [
    "for movie in liste:\n",
    "    if(movie==find):\n",
    "        print(\"found dabang3\")\n",
    "    else:\n",
    "        pass"
   ]
  },
  {
   "cell_type": "code",
   "execution_count": 56,
   "metadata": {},
   "outputs": [
    {
     "name": "stdout",
     "output_type": "stream",
     "text": [
      "found dabang\n"
     ]
    }
   ],
   "source": [
    "for movie in liste:\n",
    "    if(movie=='dabang' or movie=='dabang2' or movie == 'dabang3'):\n",
    "        print(\"found dabang\")\n",
    "    else:\n",
    "        pass"
   ]
  },
  {
   "cell_type": "code",
   "execution_count": 57,
   "metadata": {},
   "outputs": [],
   "source": [
    "liste = ['tanaji', 'dabang3', 'masaan', 'optimus', 'megatron', 'dabang2']"
   ]
  },
  {
   "cell_type": "code",
   "execution_count": 58,
   "metadata": {},
   "outputs": [
    {
     "name": "stdout",
     "output_type": "stream",
     "text": [
      "dabang3\n",
      "dabang2\n"
     ]
    }
   ],
   "source": [
    "for movie in liste:\n",
    "    if(movie=='dabang' or movie=='dabang2' or movie == 'dabang3'):\n",
    "        print(movie)\n",
    "    else:\n",
    "        pass"
   ]
  },
  {
   "cell_type": "code",
   "execution_count": 60,
   "metadata": {},
   "outputs": [],
   "source": [
    "liste = ['tanaji', 'dabang3', 'masaan', 'optimus', 'megatron', 'dabang3']"
   ]
  },
  {
   "cell_type": "code",
   "execution_count": 63,
   "metadata": {},
   "outputs": [
    {
     "name": "stdout",
     "output_type": "stream",
     "text": [
      "1\n",
      "1\n"
     ]
    }
   ],
   "source": [
    "for movie in liste:\n",
    "    if movie == 'dabang3':\n",
    "        print(liste.index(movie))\n",
    "    else:\n",
    "        pass"
   ]
  },
  {
   "cell_type": "code",
   "execution_count": 67,
   "metadata": {},
   "outputs": [
    {
     "name": "stdout",
     "output_type": "stream",
     "text": [
      "1\n",
      "5\n"
     ]
    }
   ],
   "source": [
    "for i in range(len(liste)):\n",
    "    if liste[i] == 'dabang3':\n",
    "        print(i)\n",
    "    else:\n",
    "        pass"
   ]
  },
  {
   "cell_type": "code",
   "execution_count": 68,
   "metadata": {},
   "outputs": [
    {
     "name": "stdout",
     "output_type": "stream",
     "text": [
      "0 0\n",
      "0 1\n",
      "1 0\n",
      "1 1\n",
      "2 0\n",
      "2 1\n"
     ]
    }
   ],
   "source": [
    "for i in range(3):\n",
    "    for j in range(2):\n",
    "        print(i, j)"
   ]
  },
  {
   "cell_type": "code",
   "execution_count": 69,
   "metadata": {},
   "outputs": [],
   "source": [
    "listf = [['aa', 'bb', 'cc'], ['dd', 'ee', 'aa'], 'hh', 'ii']"
   ]
  },
  {
   "cell_type": "code",
   "execution_count": 70,
   "metadata": {},
   "outputs": [
    {
     "name": "stdout",
     "output_type": "stream",
     "text": [
      "['aa', 'bb', 'cc']\n",
      "['dd', 'ee', 'aa']\n",
      "hh\n",
      "ii\n"
     ]
    }
   ],
   "source": [
    "for val in listf:\n",
    "    print(val)"
   ]
  },
  {
   "cell_type": "code",
   "execution_count": 73,
   "metadata": {},
   "outputs": [],
   "source": [
    "listf = [['aa', 'bb', 'cc'], ['dd', 'ee', 'aa', 'tt', 'll']]"
   ]
  },
  {
   "cell_type": "code",
   "execution_count": 75,
   "metadata": {},
   "outputs": [
    {
     "name": "stdout",
     "output_type": "stream",
     "text": [
      "['aa', 'bb', 'cc']\n",
      "aa\n",
      "a\n",
      "a\n",
      "bb\n",
      "b\n",
      "b\n",
      "cc\n",
      "c\n",
      "c\n",
      "-------\n",
      "['dd', 'ee', 'aa', 'tt', 'll']\n",
      "dd\n",
      "d\n",
      "d\n",
      "ee\n",
      "e\n",
      "e\n",
      "aa\n",
      "a\n",
      "a\n",
      "tt\n",
      "t\n",
      "t\n",
      "ll\n",
      "l\n",
      "l\n",
      "-------\n"
     ]
    }
   ],
   "source": [
    "for val in listf:\n",
    "    print(val)\n",
    "    for i in val:\n",
    "        print(i)\n",
    "        for c in i:\n",
    "            print(c)\n",
    "    print(\"-------\")"
   ]
  },
  {
   "cell_type": "code",
   "execution_count": 76,
   "metadata": {},
   "outputs": [
    {
     "name": "stdout",
     "output_type": "stream",
     "text": [
      "['aa', 'bb', 'cc']\n",
      "aa\n",
      "bb\n",
      "cc\n",
      "-------\n",
      "['dd', 'ee', 'aa', 'tt', 'll']\n",
      "dd\n",
      "ee\n",
      "aa\n",
      "tt\n",
      "ll\n",
      "-------\n"
     ]
    }
   ],
   "source": [
    "for val in listf:\n",
    "    print(val)\n",
    "    for i in val:\n",
    "        print(i)\n",
    "    print(\"-------\")"
   ]
  },
  {
   "cell_type": "code",
   "execution_count": 77,
   "metadata": {},
   "outputs": [
    {
     "data": {
      "text/plain": [
       "[['aa', 'bb', 'cc'], ['dd', 'ee', 'aa', 'tt', 'll']]"
      ]
     },
     "execution_count": 77,
     "metadata": {},
     "output_type": "execute_result"
    }
   ],
   "source": [
    "listf"
   ]
  },
  {
   "cell_type": "code",
   "execution_count": 78,
   "metadata": {},
   "outputs": [
    {
     "name": "stdout",
     "output_type": "stream",
     "text": [
      "1 1\n"
     ]
    }
   ],
   "source": [
    "for i in range(len(listf)):\n",
    "    for j in range(len(listf[i])):\n",
    "        if listf[i][j] == 'ee':\n",
    "            print(i, j)"
   ]
  },
  {
   "cell_type": "code",
   "execution_count": 79,
   "metadata": {},
   "outputs": [
    {
     "name": "stdout",
     "output_type": "stream",
     "text": [
      "0 0\n",
      "1 2\n"
     ]
    }
   ],
   "source": [
    "for i in range(len(listf)):\n",
    "    for j in range(len(listf[i])):\n",
    "        if listf[i][j] == 'aa':\n",
    "            print(i, j)"
   ]
  },
  {
   "cell_type": "code",
   "execution_count": null,
   "metadata": {},
   "outputs": [],
   "source": []
  }
 ],
 "metadata": {
  "kernelspec": {
   "display_name": "Python 3",
   "language": "python",
   "name": "python3"
  },
  "language_info": {
   "codemirror_mode": {
    "name": "ipython",
    "version": 3
   },
   "file_extension": ".py",
   "mimetype": "text/x-python",
   "name": "python",
   "nbconvert_exporter": "python",
   "pygments_lexer": "ipython3",
   "version": "3.7.3"
  }
 },
 "nbformat": 4,
 "nbformat_minor": 2
}
